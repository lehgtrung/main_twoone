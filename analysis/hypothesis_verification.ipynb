{
 "cells": [
  {
   "cell_type": "code",
   "execution_count": 54,
   "metadata": {},
   "outputs": [],
   "source": [
    "import pandas as pd\n",
    "import numpy as np\n",
    "from tqdm import tqdm\n",
    "import matplotlib.pyplot as plt\n",
    "import random"
   ]
  },
  {
   "cell_type": "code",
   "execution_count": 3,
   "metadata": {},
   "outputs": [],
   "source": [
    "def standardize_data(data):\n",
    "    for row in data:\n",
    "        tokens = row['tokens']\n",
    "        for entity in row['entities']:\n",
    "            entity.append(' '.join(tokens[entity[0]: entity[1]]))\n",
    "        for relation in row['relations']:\n",
    "            relation.append(' '.join(tokens[relation[0]: relation[1]]))\n",
    "            relation.append(' '.join(tokens[relation[2]: relation[3]]))\n",
    "    return data"
   ]
  },
  {
   "cell_type": "code",
   "execution_count": 4,
   "metadata": {},
   "outputs": [],
   "source": [
    "with open('../asp/satisfiable.lp') as f:\n",
    "    satisfiable_program = f.read()"
   ]
  },
  {
   "cell_type": "code",
   "execution_count": 5,
   "metadata": {},
   "outputs": [],
   "source": [
    "with open('../asp/inference.lp') as f:\n",
    "    inference_program = f.read()"
   ]
  },
  {
   "cell_type": "code",
   "execution_count": 8,
   "metadata": {},
   "outputs": [],
   "source": [
    "with open('conll04_10_fold_10_unlabeled_prediction.json', 'r') as f:\n",
    "    data = standardize_data(json.load(f))\n",
    "# with open('conll04_10_fold_10_unlabeled_prediction.json', 'r') as f:\n",
    "#     fold9 = json.load(f)\n",
    "# with open('conll04_10_fold_10_unlabeled_prediction.json', 'r') as f:\n",
    "#     fold8 = json.load(f)\n",
    "# with open('conll04_10_fold_10_unlabeled_prediction.json', 'r') as f:\n",
    "#     fold7 = json.load(f)\n",
    "# with open('conll04_10_fold_10_unlabeled_prediction.json', 'r') as f:\n",
    "#     fold6 = json.load(f)"
   ]
  },
  {
   "cell_type": "code",
   "execution_count": 7,
   "metadata": {},
   "outputs": [],
   "source": [
    "import json\n",
    "import subprocess\n",
    "import ast\n",
    "\n",
    "clingo_path = 'clingo'\n",
    "clingo_options = ['--outf=2', '-n 0']\n",
    "clingo_command = [clingo_path] + clingo_options\n",
    "\n",
    "drive_command = ['clingo', '../asp/compute.lp',\n",
    "                 '../asp/p2.lp', '../asp/p3.lp', '--outf=3']\n",
    "\n",
    "\n",
    "def solve(program):\n",
    "    input = program.encode()\n",
    "    process = subprocess.Popen(clingo_command, stdin=subprocess.PIPE, stderr=subprocess.PIPE, stdout=subprocess.PIPE)\n",
    "    output, error = process.communicate(input)\n",
    "    result = json.loads(output.decode())\n",
    "    if result['Result'] == 'SATISFIABLE' or result['Result'] == 'OPTIMUM FOUND':\n",
    "        solutions = [value['Value'] for value in result['Call'][0]['Witnesses']]\n",
    "        return union_all_solutions(solutions)\n",
    "    else:\n",
    "        return None\n",
    "    \n",
    "    \n",
    "def solve_v2(program):\n",
    "    # Write the program to a file\n",
    "    with open('../asp/p3.lp', 'w') as f:\n",
    "        f.write(program)\n",
    "    process = subprocess.Popen(drive_command, stdin=subprocess.PIPE, stderr=subprocess.PIPE, stdout=subprocess.PIPE)\n",
    "    output, error = process.communicate()\n",
    "    result = ast.literal_eval(output.decode().split('\\n')[-2])\n",
    "    return result"
   ]
  },
  {
   "cell_type": "code",
   "execution_count": 42,
   "metadata": {},
   "outputs": [],
   "source": [
    "def concat_facts(es, rs):\n",
    "    output = []\n",
    "    for e in es:\n",
    "        output.append(e)\n",
    "    for r in rs:\n",
    "        output.append(r)\n",
    "    return '\\n'.join(output)\n",
    "\n",
    "def union_all_solutions(solutions):\n",
    "    union = set()\n",
    "    for solution in solutions:\n",
    "        for atom in solution:\n",
    "            if not atom.startswith('nOfOKAtoms'):\n",
    "                union.add(atom)\n",
    "    return list(union)\n",
    "\n",
    "def format_for_asp(s, type):\n",
    "    if type == 'entity':\n",
    "        return s.lower()\n",
    "    else:\n",
    "        splits = s.split('_')\n",
    "        if len(splits) > 1:\n",
    "            return '{}{}'.format(splits[0].lower(), splits[1].capitalize())\n",
    "        return splits[0].lower()\n",
    "    \n",
    "def convert_original_to_atoms(data, dtype, wrap=True):\n",
    "    result = []\n",
    "    for d in data:\n",
    "        if dtype == 'entity':\n",
    "            if wrap:\n",
    "                e = 'atom({}(\"{}\")).'.format(format_for_asp(d[2], 'entity'),\n",
    "                                             str(d[0]) + '+' + str(d[1]))\n",
    "            else:\n",
    "                e = '{}(\"{}\").'.format(format_for_asp(d[2], 'entity'),\n",
    "                                       str(d[0]) + '+' + str(d[1]))\n",
    "            result.append(e)\n",
    "        else:\n",
    "            if wrap:\n",
    "                r = 'atom({}(\"{}\",\"{}\")).'.format(format_for_asp(d[4], 'relation'),\n",
    "                                             str(d[0]) + '+' + str(d[1]), str(d[2]) + '+' + str(d[3]))\n",
    "            else:\n",
    "                r = '{}(\"{}\",\"{}\").'.format(format_for_asp(d[4], 'relation'),\n",
    "                                            str(d[0]) + '+' + str(d[1]), str(d[2]) + '+' + str(d[3]))\n",
    "            result.append(r)\n",
    "    return result\n",
    "\n",
    "\n",
    "def convert_solutions_back(solution):\n",
    "    es = []\n",
    "    rs = []\n",
    "    for atom in solution:\n",
    "        atom = atom.replace('ok(', '', 1).replace(')', '', 1) + '.'\n",
    "        if atom.startswith('loc(') or atom.startswith('peop(') or \\\n",
    "                atom.startswith('org(') or atom.startswith('other('):\n",
    "            es.append(atom)\n",
    "        else:\n",
    "            rs.append(atom)\n",
    "    return es, rs"
   ]
  },
  {
   "cell_type": "code",
   "execution_count": 43,
   "metadata": {},
   "outputs": [],
   "source": [
    "def is_consistent(entities, relations, satisfiable_program, model_type, wrap=False):\n",
    "    assert model_type in ['twoone', 'spert']\n",
    "    if model_type == 'spert':\n",
    "        entities = spert_to_twoone(entities, relations, 'entity')\n",
    "        relations = spert_to_twoone(entities, relations, 'relation')\n",
    "\n",
    "    e_atoms = convert_original_to_atoms(entities, 'entity', wrap)\n",
    "    r_atoms = convert_original_to_atoms(relations, 'relation', wrap)\n",
    "    program = satisfiable_program + '\\n' + concat_facts(e_atoms, r_atoms)\n",
    "    solution = solve(program)\n",
    "    if solution:\n",
    "        return True\n",
    "    return False"
   ]
  },
  {
   "cell_type": "code",
   "execution_count": 44,
   "metadata": {},
   "outputs": [],
   "source": [
    "def is_inferable(entities, relations, inference_program, model_type, wrap=False):\n",
    "    assert model_type in ['twoone', 'spert']\n",
    "    if model_type == 'spert':\n",
    "        entities = spert_to_twoone(entities, relations, 'entity')\n",
    "        relations = spert_to_twoone(entities, relations, 'relation')\n",
    "\n",
    "    e_atoms = convert_original_to_atoms(entities, 'entity', wrap)\n",
    "    r_atoms = convert_original_to_atoms(relations, 'relation', wrap)\n",
    "    program = inference_program + '\\n' + concat_facts(e_atoms, r_atoms)\n",
    "    solution = solve(program)\n",
    "    return len(solution) > len(entities) + len(relations)"
   ]
  },
  {
   "cell_type": "code",
   "execution_count": 45,
   "metadata": {},
   "outputs": [],
   "source": [
    "def verify_and_infer(entities, relations, inference_program, model_type):\n",
    "    assert model_type in ['twoone', 'spert']\n",
    "    if model_type == 'spert':\n",
    "        entities = spert_to_twoone(entities, relations, 'entity')\n",
    "        relations = spert_to_twoone(entities, relations, 'relation')\n",
    "    final_outputs = []\n",
    "    # Remove connected components\n",
    "    e_atoms = convert_original_to_atoms(entities, 'entity')\n",
    "    r_atoms = convert_original_to_atoms(relations, 'relation')\n",
    "    program = concat_facts(e_atoms, r_atoms)\n",
    "    answer_sets = solve_v2(program)\n",
    "    for answer_set in answer_sets:\n",
    "        es, rs = convert_solutions_back(answer_set)\n",
    "        # Inference starts here\n",
    "        program = inference_program + '\\n' + concat_facts(es, rs)\n",
    "        solution = solve(program)\n",
    "        if not solution:\n",
    "            continue\n",
    "        solution = ['ok(' + atom + ')' for atom in solution]\n",
    "        es, rs = convert_solutions_back(solution)\n",
    "        # Inference ends here\n",
    "        final_outputs.append(es + rs)\n",
    "    return final_outputs, e_atoms + r_atoms"
   ]
  },
  {
   "cell_type": "code",
   "execution_count": 12,
   "metadata": {},
   "outputs": [],
   "source": [
    "sample = data[0]"
   ]
  },
  {
   "cell_type": "code",
   "execution_count": 74,
   "metadata": {
    "scrolled": true
   },
   "outputs": [],
   "source": [
    "# sample"
   ]
  },
  {
   "cell_type": "code",
   "execution_count": 24,
   "metadata": {},
   "outputs": [
    {
     "data": {
      "text/plain": [
       "True"
      ]
     },
     "execution_count": 24,
     "metadata": {},
     "output_type": "execute_result"
    }
   ],
   "source": [
    "is_consistent(sample['entities'], sample['relations'], satisfiable_program, 'twoone')"
   ]
  },
  {
   "cell_type": "code",
   "execution_count": 27,
   "metadata": {},
   "outputs": [
    {
     "data": {
      "text/plain": [
       "7"
      ]
     },
     "execution_count": 27,
     "metadata": {},
     "output_type": "execute_result"
    }
   ],
   "source": [
    "len(sample['entities']) + len(sample['relations'])"
   ]
  },
  {
   "cell_type": "code",
   "execution_count": 44,
   "metadata": {},
   "outputs": [
    {
     "data": {
      "text/plain": [
       "False"
      ]
     },
     "execution_count": 44,
     "metadata": {},
     "output_type": "execute_result"
    }
   ],
   "source": [
    "is_inferable(sample['entities'], sample['relations'], inference_program, 'twoone')"
   ]
  },
  {
   "cell_type": "code",
   "execution_count": 45,
   "metadata": {},
   "outputs": [],
   "source": [
    "def consistent_but_inferable(data):\n",
    "    num_consistent_but_inferable = 0\n",
    "    num_inconsistent = 0\n",
    "    for row in tqdm(data):\n",
    "        if is_consistent(row['entities'], row['relations'], satisfiable_program, 'twoone'):\n",
    "            if is_inferable(row['entities'], row['relations'], inference_program, 'twoone'):\n",
    "                num_consistent_but_inferable += 1\n",
    "        else:\n",
    "            num_inconsistent += 1\n",
    "    return num_consistent_but_inferable, num_inconsistent"
   ]
  },
  {
   "cell_type": "code",
   "execution_count": 96,
   "metadata": {},
   "outputs": [],
   "source": [
    "def collect_inconsistent_samples(data):\n",
    "    inconsistents = []\n",
    "    indicies = []\n",
    "    for i, row in enumerate(data):\n",
    "        if not is_consistent(row['entities'], row['relations'], satisfiable_program, 'twoone'):\n",
    "            inconsistents.append(row)\n",
    "            indicies.append(i)\n",
    "    return inconsistents, indicies"
   ]
  },
  {
   "cell_type": "code",
   "execution_count": 46,
   "metadata": {},
   "outputs": [
    {
     "name": "stderr",
     "output_type": "stream",
     "text": [
      "100%|██████████| 830/830 [00:08<00:00, 98.80it/s] "
     ]
    },
    {
     "name": "stdout",
     "output_type": "stream",
     "text": [
      "Number of sentences that are consistent but inferable:  0\n",
      "Number of sentences that are inconsistent:  43\n"
     ]
    },
    {
     "name": "stderr",
     "output_type": "stream",
     "text": [
      "\n"
     ]
    }
   ],
   "source": [
    "num_consistent_but_inferable, num_inconsistent = consistent_but_inferable(data)\n",
    "print('Number of sentences that are consistent but inferable: ', num_consistent_but_inferable)\n",
    "print('Number of sentences that are inconsistent: ', num_inconsistent)"
   ]
  },
  {
   "cell_type": "code",
   "execution_count": 3,
   "metadata": {},
   "outputs": [],
   "source": [
    "def missing_stats(data):\n",
    "    ..."
   ]
  },
  {
   "cell_type": "code",
   "execution_count": 5,
   "metadata": {},
   "outputs": [],
   "source": [
    "def redudant_stats(data):\n",
    "    ..."
   ]
  },
  {
   "cell_type": "code",
   "execution_count": 22,
   "metadata": {},
   "outputs": [],
   "source": [
    "def num_non_empty_entries(data, f1, f2):\n",
    "    total_lens = []\n",
    "    for row in data:\n",
    "        ent_len = 0\n",
    "        rel_len = 0\n",
    "        for ent in row[f1]:\n",
    "            ent_len += ent[1] - ent[0]\n",
    "        for rel in row[f2]:\n",
    "            rel_len += (rel[1] - rel[0]) * (rel[3] - rel[2])\n",
    "        total_lens.append(ent_len + rel_len)\n",
    "    return total_lens"
   ]
  },
  {
   "cell_type": "code",
   "execution_count": 75,
   "metadata": {},
   "outputs": [],
   "source": [
    "total_lens_predicted = num_non_empty_entries(data, 'entities', 'relations')\n",
    "total_lens_gt = num_non_empty_entries(data, 'entity_gts', 'relation_gts')"
   ]
  },
  {
   "cell_type": "code",
   "execution_count": 78,
   "metadata": {},
   "outputs": [
    {
     "data": {
      "text/plain": [
       "19"
      ]
     },
     "execution_count": 78,
     "metadata": {},
     "output_type": "execute_result"
    }
   ],
   "source": [
    "len([e for e in total_lens_predicted if e < 3])"
   ]
  },
  {
   "cell_type": "code",
   "execution_count": 27,
   "metadata": {},
   "outputs": [
    {
     "data": {
      "image/png": "[encoded data removed]",
      "text/plain": [
       "<Figure size 1000x500 with 2 Axes>"
      ]
     },
     "metadata": {},
     "output_type": "display_data"
    }
   ],
   "source": [
    "fig, axes = plt.subplots(ncols=2, figsize=(10, 5))\n",
    "axes[0].hist(total_lens_predicted, bins=30)\n",
    "axes[1].hist(total_lens_gt, bins=30)\n",
    "plt.show()"
   ]
  },
  {
   "cell_type": "code",
   "execution_count": 43,
   "metadata": {},
   "outputs": [],
   "source": [
    "df = pd.DataFrame({'total_lens_predicted': total_lens_predicted, \n",
    "                   'total_lens_gt': total_lens_gt,\n",
    "                   'sent_len': [len(row['tokens']) for row in data]\n",
    "                  })"
   ]
  },
  {
   "cell_type": "code",
   "execution_count": 45,
   "metadata": {},
   "outputs": [
    {
     "data": {
      "text/html": [
       "<div>\n",
       "<style scoped>\n",
       "    .dataframe tbody tr th:only-of-type {\n",
       "        vertical-align: middle;\n",
       "    }\n",
       "\n",
       "    .dataframe tbody tr th {\n",
       "        vertical-align: top;\n",
       "    }\n",
       "\n",
       "    .dataframe thead th {\n",
       "        text-align: right;\n",
       "    }\n",
       "</style>\n",
       "<table border=\"1\" class=\"dataframe\">\n",
       "  <thead>\n",
       "    <tr style=\"text-align: right;\">\n",
       "      <th></th>\n",
       "      <th>total_lens_predicted</th>\n",
       "      <th>total_lens_gt</th>\n",
       "      <th>sent_len</th>\n",
       "    </tr>\n",
       "  </thead>\n",
       "  <tbody>\n",
       "    <tr>\n",
       "      <th>0</th>\n",
       "      <td>16</td>\n",
       "      <td>13</td>\n",
       "      <td>20</td>\n",
       "    </tr>\n",
       "    <tr>\n",
       "      <th>1</th>\n",
       "      <td>3</td>\n",
       "      <td>20</td>\n",
       "      <td>50</td>\n",
       "    </tr>\n",
       "    <tr>\n",
       "      <th>2</th>\n",
       "      <td>6</td>\n",
       "      <td>8</td>\n",
       "      <td>32</td>\n",
       "    </tr>\n",
       "    <tr>\n",
       "      <th>3</th>\n",
       "      <td>17</td>\n",
       "      <td>49</td>\n",
       "      <td>25</td>\n",
       "    </tr>\n",
       "    <tr>\n",
       "      <th>4</th>\n",
       "      <td>8</td>\n",
       "      <td>11</td>\n",
       "      <td>22</td>\n",
       "    </tr>\n",
       "  </tbody>\n",
       "</table>\n",
       "</div>"
      ],
      "text/plain": [
       "   total_lens_predicted  total_lens_gt  sent_len\n",
       "0                    16             13        20\n",
       "1                     3             20        50\n",
       "2                     6              8        32\n",
       "3                    17             49        25\n",
       "4                     8             11        22"
      ]
     },
     "execution_count": 45,
     "metadata": {},
     "output_type": "execute_result"
    }
   ],
   "source": [
    "df.head()"
   ]
  },
  {
   "cell_type": "code",
   "execution_count": 39,
   "metadata": {},
   "outputs": [
    {
     "data": {
      "text/html": [
       "<div>\n",
       "<style scoped>\n",
       "    .dataframe tbody tr th:only-of-type {\n",
       "        vertical-align: middle;\n",
       "    }\n",
       "\n",
       "    .dataframe tbody tr th {\n",
       "        vertical-align: top;\n",
       "    }\n",
       "\n",
       "    .dataframe thead th {\n",
       "        text-align: right;\n",
       "    }\n",
       "</style>\n",
       "<table border=\"1\" class=\"dataframe\">\n",
       "  <thead>\n",
       "    <tr style=\"text-align: right;\">\n",
       "      <th></th>\n",
       "      <th>total_lens_predicted</th>\n",
       "      <th>total_lens_gt</th>\n",
       "    </tr>\n",
       "  </thead>\n",
       "  <tbody>\n",
       "    <tr>\n",
       "      <th>count</th>\n",
       "      <td>830.000000</td>\n",
       "      <td>830.000000</td>\n",
       "    </tr>\n",
       "    <tr>\n",
       "      <th>mean</th>\n",
       "      <td>9.255422</td>\n",
       "      <td>12.203614</td>\n",
       "    </tr>\n",
       "    <tr>\n",
       "      <th>std</th>\n",
       "      <td>5.495019</td>\n",
       "      <td>7.946032</td>\n",
       "    </tr>\n",
       "    <tr>\n",
       "      <th>min</th>\n",
       "      <td>0.000000</td>\n",
       "      <td>3.000000</td>\n",
       "    </tr>\n",
       "    <tr>\n",
       "      <th>25%</th>\n",
       "      <td>5.000000</td>\n",
       "      <td>7.000000</td>\n",
       "    </tr>\n",
       "    <tr>\n",
       "      <th>50%</th>\n",
       "      <td>8.000000</td>\n",
       "      <td>10.000000</td>\n",
       "    </tr>\n",
       "    <tr>\n",
       "      <th>75%</th>\n",
       "      <td>12.000000</td>\n",
       "      <td>16.000000</td>\n",
       "    </tr>\n",
       "    <tr>\n",
       "      <th>max</th>\n",
       "      <td>41.000000</td>\n",
       "      <td>83.000000</td>\n",
       "    </tr>\n",
       "  </tbody>\n",
       "</table>\n",
       "</div>"
      ],
      "text/plain": [
       "       total_lens_predicted  total_lens_gt\n",
       "count            830.000000     830.000000\n",
       "mean               9.255422      12.203614\n",
       "std                5.495019       7.946032\n",
       "min                0.000000       3.000000\n",
       "25%                5.000000       7.000000\n",
       "50%                8.000000      10.000000\n",
       "75%               12.000000      16.000000\n",
       "max               41.000000      83.000000"
      ]
     },
     "execution_count": 39,
     "metadata": {},
     "output_type": "execute_result"
    }
   ],
   "source": [
    "df.describe()"
   ]
  },
  {
   "cell_type": "code",
   "execution_count": 50,
   "metadata": {},
   "outputs": [
    {
     "data": {
      "text/plain": [
       "array([[1.        , 0.32988423],\n",
       "       [0.32988423, 1.        ]])"
      ]
     },
     "execution_count": 50,
     "metadata": {},
     "output_type": "execute_result"
    }
   ],
   "source": [
    "np.corrcoef(df['total_lens_predicted'], df['sent_len'])"
   ]
  },
  {
   "cell_type": "code",
   "execution_count": 51,
   "metadata": {},
   "outputs": [
    {
     "data": {
      "text/plain": [
       "array([[1.        , 0.46573011],\n",
       "       [0.46573011, 1.        ]])"
      ]
     },
     "execution_count": 51,
     "metadata": {},
     "output_type": "execute_result"
    }
   ],
   "source": [
    "np.corrcoef(df['total_lens_gt'], df['sent_len'])"
   ]
  },
  {
   "cell_type": "code",
   "execution_count": 28,
   "metadata": {},
   "outputs": [],
   "source": [
    "def num_atoms_per_sentences(data):\n",
    "    num_entities = []\n",
    "    num_relations = []\n",
    "    num_gt_entities = []\n",
    "    num_gt_relations = []\n",
    "    for row in tqdm(data):\n",
    "        num_entities.append(len(row['entities']))\n",
    "        num_relations.append(len(row['relations']))\n",
    "        num_gt_entities.append(len(row['entity_gts']))\n",
    "        num_gt_relations.append(len(row['relation_gts']))\n",
    "    return num_entities, num_relations, num_gt_entities, num_gt_relations"
   ]
  },
  {
   "cell_type": "code",
   "execution_count": 29,
   "metadata": {},
   "outputs": [
    {
     "name": "stderr",
     "output_type": "stream",
     "text": [
      "100%|██████████| 830/830 [00:00<00:00, 1200024.93it/s]\n"
     ]
    }
   ],
   "source": [
    "num_entities, num_relations, num_gt_entities, num_gt_relations = num_atoms_per_sentences(data)"
   ]
  },
  {
   "cell_type": "code",
   "execution_count": 32,
   "metadata": {},
   "outputs": [],
   "source": [
    "df = pd.DataFrame({'num_entities': num_entities, 'num_relations': num_relations, \n",
    "                   'num_gt_entities': num_gt_entities, 'num_gt_relations': num_gt_relations})"
   ]
  },
  {
   "cell_type": "code",
   "execution_count": 34,
   "metadata": {},
   "outputs": [
    {
     "data": {
      "text/html": [
       "<div>\n",
       "<style scoped>\n",
       "    .dataframe tbody tr th:only-of-type {\n",
       "        vertical-align: middle;\n",
       "    }\n",
       "\n",
       "    .dataframe tbody tr th {\n",
       "        vertical-align: top;\n",
       "    }\n",
       "\n",
       "    .dataframe thead th {\n",
       "        text-align: right;\n",
       "    }\n",
       "</style>\n",
       "<table border=\"1\" class=\"dataframe\">\n",
       "  <thead>\n",
       "    <tr style=\"text-align: right;\">\n",
       "      <th></th>\n",
       "      <th>num_entities</th>\n",
       "      <th>num_relations</th>\n",
       "      <th>num_gt_entities</th>\n",
       "      <th>num_gt_relations</th>\n",
       "    </tr>\n",
       "  </thead>\n",
       "  <tbody>\n",
       "    <tr>\n",
       "      <th>count</th>\n",
       "      <td>830.000000</td>\n",
       "      <td>830.000000</td>\n",
       "      <td>830.000000</td>\n",
       "      <td>830.000000</td>\n",
       "    </tr>\n",
       "    <tr>\n",
       "      <th>mean</th>\n",
       "      <td>3.539759</td>\n",
       "      <td>1.159036</td>\n",
       "      <td>3.687952</td>\n",
       "      <td>1.401205</td>\n",
       "    </tr>\n",
       "    <tr>\n",
       "      <th>std</th>\n",
       "      <td>1.753916</td>\n",
       "      <td>0.919568</td>\n",
       "      <td>1.829981</td>\n",
       "      <td>0.946964</td>\n",
       "    </tr>\n",
       "    <tr>\n",
       "      <th>min</th>\n",
       "      <td>0.000000</td>\n",
       "      <td>0.000000</td>\n",
       "      <td>2.000000</td>\n",
       "      <td>1.000000</td>\n",
       "    </tr>\n",
       "    <tr>\n",
       "      <th>25%</th>\n",
       "      <td>2.000000</td>\n",
       "      <td>1.000000</td>\n",
       "      <td>2.000000</td>\n",
       "      <td>1.000000</td>\n",
       "    </tr>\n",
       "    <tr>\n",
       "      <th>50%</th>\n",
       "      <td>3.000000</td>\n",
       "      <td>1.000000</td>\n",
       "      <td>3.000000</td>\n",
       "      <td>1.000000</td>\n",
       "    </tr>\n",
       "    <tr>\n",
       "      <th>75%</th>\n",
       "      <td>4.000000</td>\n",
       "      <td>1.000000</td>\n",
       "      <td>4.000000</td>\n",
       "      <td>1.000000</td>\n",
       "    </tr>\n",
       "    <tr>\n",
       "      <th>max</th>\n",
       "      <td>24.000000</td>\n",
       "      <td>6.000000</td>\n",
       "      <td>24.000000</td>\n",
       "      <td>10.000000</td>\n",
       "    </tr>\n",
       "  </tbody>\n",
       "</table>\n",
       "</div>"
      ],
      "text/plain": [
       "       num_entities  num_relations  num_gt_entities  num_gt_relations\n",
       "count    830.000000     830.000000       830.000000        830.000000\n",
       "mean       3.539759       1.159036         3.687952          1.401205\n",
       "std        1.753916       0.919568         1.829981          0.946964\n",
       "min        0.000000       0.000000         2.000000          1.000000\n",
       "25%        2.000000       1.000000         2.000000          1.000000\n",
       "50%        3.000000       1.000000         3.000000          1.000000\n",
       "75%        4.000000       1.000000         4.000000          1.000000\n",
       "max       24.000000       6.000000        24.000000         10.000000"
      ]
     },
     "execution_count": 34,
     "metadata": {},
     "output_type": "execute_result"
    }
   ],
   "source": [
    "df.describe()"
   ]
  },
  {
   "cell_type": "code",
   "execution_count": 30,
   "metadata": {},
   "outputs": [
    {
     "data": {
      "image/png": "[encoded data removed]",
      "text/plain": [
       "<Figure size 2000x500 with 4 Axes>"
      ]
     },
     "metadata": {},
     "output_type": "display_data"
    }
   ],
   "source": [
    "fig, axes = plt.subplots(ncols=4, figsize=(20, 5))\n",
    "\n",
    "axes[0].hist(num_entities, bins=10)\n",
    "axes[1].hist(num_relations, bins=10)\n",
    "axes[2].hist(num_gt_entities, bins=10)\n",
    "axes[3].hist(num_gt_relations, bins=10)\n",
    "plt.show()"
   ]
  },
  {
   "cell_type": "code",
   "execution_count": 72,
   "metadata": {},
   "outputs": [
    {
     "name": "stdout",
     "output_type": "stream",
     "text": [
      "3.539759036144578\n",
      "1.1590361445783133\n",
      "3.6879518072289157\n",
      "1.4012048192771085\n"
     ]
    }
   ],
   "source": [
    "print(np.mean(num_entities))\n",
    "print(np.mean(num_relations))\n",
    "print(np.mean(num_gt_entities))\n",
    "print(np.mean(num_gt_relations))"
   ]
  },
  {
   "cell_type": "code",
   "execution_count": 97,
   "metadata": {
    "scrolled": true
   },
   "outputs": [],
   "source": [
    "inconsistents, indicies = collect_inconsistent_samples(data)"
   ]
  },
  {
   "cell_type": "code",
   "execution_count": 73,
   "metadata": {
    "scrolled": true
   },
   "outputs": [],
   "source": [
    "# inconsistents"
   ]
  },
  {
   "cell_type": "markdown",
   "metadata": {},
   "source": [
    "## Hypothesis 1: increase number of training points also increase the number of atoms per sentences"
   ]
  },
  {
   "cell_type": "code",
   "execution_count": 52,
   "metadata": {},
   "outputs": [],
   "source": [
    "with open('../datasets/conll04_10/folds/10/labeled.json', 'r') as f:\n",
    "    data_labeled = json.load(f)\n",
    "with open('../datasets/conll04_10/folds/10/unlabeled.json', 'r') as f:\n",
    "    data_unlabeled = json.load(f)"
   ]
  },
  {
   "cell_type": "code",
   "execution_count": 53,
   "metadata": {},
   "outputs": [
    {
     "data": {
      "text/plain": [
       "830"
      ]
     },
     "execution_count": 53,
     "metadata": {},
     "output_type": "execute_result"
    }
   ],
   "source": [
    "len(data_unlabeled)"
   ]
  },
  {
   "cell_type": "code",
   "execution_count": 56,
   "metadata": {},
   "outputs": [],
   "source": [
    "indicies = list(range(830))\n",
    "random.shuffle(indicies)"
   ]
  },
  {
   "cell_type": "code",
   "execution_count": 61,
   "metadata": {
    "scrolled": true
   },
   "outputs": [],
   "source": [
    "part1 = []\n",
    "part2 = []\n",
    "for i in indicies[:len(data_unlabeled) // 10]:\n",
    "    part1.append(data_unlabeled[i])\n",
    "    \n",
    "for i in indicies[:2 * len(data_unlabeled) // 10]:\n",
    "    part2.append(data_unlabeled[i])"
   ]
  },
  {
   "cell_type": "code",
   "execution_count": 62,
   "metadata": {},
   "outputs": [
    {
     "name": "stdout",
     "output_type": "stream",
     "text": [
      "83\n",
      "166\n"
     ]
    }
   ],
   "source": [
    "print(len(part1))\n",
    "print(len(part2))"
   ]
  },
  {
   "cell_type": "code",
   "execution_count": 63,
   "metadata": {},
   "outputs": [],
   "source": [
    "with open('part1.json', 'w') as f:\n",
    "    json.dump(part1, f)\n",
    "    \n",
    "with open('part2.json', 'w') as f:\n",
    "    json.dump(part2, f)"
   ]
  },
  {
   "cell_type": "code",
   "execution_count": null,
   "metadata": {},
   "outputs": [],
   "source": [
    "part0: {'entity_p': 0.7615894039663048, \n",
    "        'entity_r': 0.7460611677410004, \n",
    "        'entity_f1': 0.7537453255054033, \n",
    "        'relation_p': 0.5186246418189506, \n",
    "        'relation_r': 0.4289099525964713, \n",
    "        'relation_f1': 0.4695201127365709, \n",
    "        'relation_p_wNER': 0.5014326647420793, \n",
    "        'relation_r_wNER': 0.41469194311813523, \n",
    "        'relation_f1_wNER': 0.45395591047421013}\n",
    "\n",
    "part1: {'entity_p': 0.7271889400854638, \n",
    "        'entity_r': 0.731232622792111, \n",
    "        'entity_f1': 0.729205182935376, \n",
    "        'relation_p': 0.4918918918785975, \n",
    "        'relation_r': 0.43127962084286064, \n",
    "        'relation_f1': 0.4595959685713191, \n",
    "        'relation_p_wNER': 0.4918918918785975, \n",
    "        'relation_r_wNER': 0.43127962084286064, \n",
    "        'relation_f1_wNER': 0.4595959685713191}\n",
    "part2: {'entity_p': 0.8056828597543018, \n",
    "       'entity_r': 0.8146431881296141, \n",
    "       'entity_f1': 0.8101382555591455, \n",
    "       'relation_p': 0.5775656324444495, \n",
    "       'relation_r': 0.5734597156262213, \n",
    "       'relation_f1': 0.5755053591032984, \n",
    "       'relation_p_wNER': 0.5680190930652024, \n",
    "       'relation_r_wNER': 0.563981042640664, \n",
    "       'relation_f1_wNER': 0.5659928740210751}"
   ]
  },
  {
   "cell_type": "code",
   "execution_count": 64,
   "metadata": {},
   "outputs": [],
   "source": [
    "with open('part0.prediction.json', 'r') as f:\n",
    "    part0_pred = json.load(f)\n",
    "    \n",
    "with open('part1.prediction.json', 'r') as f:\n",
    "    part1_pred = json.load(f)\n",
    "    \n",
    "with open('part2.prediction.json', 'r') as f:\n",
    "    part2_pred = json.load(f)"
   ]
  },
  {
   "cell_type": "code",
   "execution_count": 69,
   "metadata": {},
   "outputs": [
    {
     "data": {
      "text/html": [
       "<div>\n",
       "<style scoped>\n",
       "    .dataframe tbody tr th:only-of-type {\n",
       "        vertical-align: middle;\n",
       "    }\n",
       "\n",
       "    .dataframe tbody tr th {\n",
       "        vertical-align: top;\n",
       "    }\n",
       "\n",
       "    .dataframe thead th {\n",
       "        text-align: right;\n",
       "    }\n",
       "</style>\n",
       "<table border=\"1\" class=\"dataframe\">\n",
       "  <thead>\n",
       "    <tr style=\"text-align: right;\">\n",
       "      <th></th>\n",
       "      <th>total_lens_predicted</th>\n",
       "      <th>total_lens_gt</th>\n",
       "      <th>sent_len</th>\n",
       "    </tr>\n",
       "  </thead>\n",
       "  <tbody>\n",
       "    <tr>\n",
       "      <th>count</th>\n",
       "      <td>288.000000</td>\n",
       "      <td>288.000000</td>\n",
       "      <td>288.000000</td>\n",
       "    </tr>\n",
       "    <tr>\n",
       "      <th>mean</th>\n",
       "      <td>10.170139</td>\n",
       "      <td>12.652778</td>\n",
       "      <td>28.944444</td>\n",
       "    </tr>\n",
       "    <tr>\n",
       "      <th>std</th>\n",
       "      <td>6.128321</td>\n",
       "      <td>9.134549</td>\n",
       "      <td>15.457834</td>\n",
       "    </tr>\n",
       "    <tr>\n",
       "      <th>min</th>\n",
       "      <td>0.000000</td>\n",
       "      <td>3.000000</td>\n",
       "      <td>2.000000</td>\n",
       "    </tr>\n",
       "    <tr>\n",
       "      <th>25%</th>\n",
       "      <td>6.000000</td>\n",
       "      <td>7.000000</td>\n",
       "      <td>20.000000</td>\n",
       "    </tr>\n",
       "    <tr>\n",
       "      <th>50%</th>\n",
       "      <td>9.000000</td>\n",
       "      <td>11.000000</td>\n",
       "      <td>27.000000</td>\n",
       "    </tr>\n",
       "    <tr>\n",
       "      <th>75%</th>\n",
       "      <td>13.000000</td>\n",
       "      <td>15.000000</td>\n",
       "      <td>37.000000</td>\n",
       "    </tr>\n",
       "    <tr>\n",
       "      <th>max</th>\n",
       "      <td>45.000000</td>\n",
       "      <td>77.000000</td>\n",
       "      <td>118.000000</td>\n",
       "    </tr>\n",
       "  </tbody>\n",
       "</table>\n",
       "</div>"
      ],
      "text/plain": [
       "       total_lens_predicted  total_lens_gt    sent_len\n",
       "count            288.000000     288.000000  288.000000\n",
       "mean              10.170139      12.652778   28.944444\n",
       "std                6.128321       9.134549   15.457834\n",
       "min                0.000000       3.000000    2.000000\n",
       "25%                6.000000       7.000000   20.000000\n",
       "50%                9.000000      11.000000   27.000000\n",
       "75%               13.000000      15.000000   37.000000\n",
       "max               45.000000      77.000000  118.000000"
      ]
     },
     "execution_count": 69,
     "metadata": {},
     "output_type": "execute_result"
    }
   ],
   "source": [
    "total_lens_predicted = num_non_empty_entries(part0_pred, 'entities', 'relations')\n",
    "total_lens_gt = num_non_empty_entries(part0_pred, 'entity_gts', 'relation_gts')\n",
    "\n",
    "df = pd.DataFrame({'total_lens_predicted': total_lens_predicted, \n",
    "                   'total_lens_gt': total_lens_gt,\n",
    "                   'sent_len': [len(row['tokens']) for row in part0_pred]\n",
    "                  })\n",
    "\n",
    "df.describe()"
   ]
  },
  {
   "cell_type": "code",
   "execution_count": 70,
   "metadata": {},
   "outputs": [
    {
     "data": {
      "text/html": [
       "<div>\n",
       "<style scoped>\n",
       "    .dataframe tbody tr th:only-of-type {\n",
       "        vertical-align: middle;\n",
       "    }\n",
       "\n",
       "    .dataframe tbody tr th {\n",
       "        vertical-align: top;\n",
       "    }\n",
       "\n",
       "    .dataframe thead th {\n",
       "        text-align: right;\n",
       "    }\n",
       "</style>\n",
       "<table border=\"1\" class=\"dataframe\">\n",
       "  <thead>\n",
       "    <tr style=\"text-align: right;\">\n",
       "      <th></th>\n",
       "      <th>total_lens_predicted</th>\n",
       "      <th>total_lens_gt</th>\n",
       "      <th>sent_len</th>\n",
       "    </tr>\n",
       "  </thead>\n",
       "  <tbody>\n",
       "    <tr>\n",
       "      <th>count</th>\n",
       "      <td>288.000000</td>\n",
       "      <td>288.000000</td>\n",
       "      <td>288.000000</td>\n",
       "    </tr>\n",
       "    <tr>\n",
       "      <th>mean</th>\n",
       "      <td>10.739583</td>\n",
       "      <td>12.652778</td>\n",
       "      <td>28.944444</td>\n",
       "    </tr>\n",
       "    <tr>\n",
       "      <th>std</th>\n",
       "      <td>7.595494</td>\n",
       "      <td>9.134549</td>\n",
       "      <td>15.457834</td>\n",
       "    </tr>\n",
       "    <tr>\n",
       "      <th>min</th>\n",
       "      <td>1.000000</td>\n",
       "      <td>3.000000</td>\n",
       "      <td>2.000000</td>\n",
       "    </tr>\n",
       "    <tr>\n",
       "      <th>25%</th>\n",
       "      <td>6.000000</td>\n",
       "      <td>7.000000</td>\n",
       "      <td>20.000000</td>\n",
       "    </tr>\n",
       "    <tr>\n",
       "      <th>50%</th>\n",
       "      <td>9.000000</td>\n",
       "      <td>11.000000</td>\n",
       "      <td>27.000000</td>\n",
       "    </tr>\n",
       "    <tr>\n",
       "      <th>75%</th>\n",
       "      <td>13.000000</td>\n",
       "      <td>15.000000</td>\n",
       "      <td>37.000000</td>\n",
       "    </tr>\n",
       "    <tr>\n",
       "      <th>max</th>\n",
       "      <td>63.000000</td>\n",
       "      <td>77.000000</td>\n",
       "      <td>118.000000</td>\n",
       "    </tr>\n",
       "  </tbody>\n",
       "</table>\n",
       "</div>"
      ],
      "text/plain": [
       "       total_lens_predicted  total_lens_gt    sent_len\n",
       "count            288.000000     288.000000  288.000000\n",
       "mean              10.739583      12.652778   28.944444\n",
       "std                7.595494       9.134549   15.457834\n",
       "min                1.000000       3.000000    2.000000\n",
       "25%                6.000000       7.000000   20.000000\n",
       "50%                9.000000      11.000000   27.000000\n",
       "75%               13.000000      15.000000   37.000000\n",
       "max               63.000000      77.000000  118.000000"
      ]
     },
     "execution_count": 70,
     "metadata": {},
     "output_type": "execute_result"
    }
   ],
   "source": [
    "total_lens_predicted = num_non_empty_entries(part1_pred, 'entities', 'relations')\n",
    "total_lens_gt = num_non_empty_entries(part1_pred, 'entity_gts', 'relation_gts')\n",
    "\n",
    "df = pd.DataFrame({'total_lens_predicted': total_lens_predicted, \n",
    "                   'total_lens_gt': total_lens_gt,\n",
    "                   'sent_len': [len(row['tokens']) for row in part0_pred]\n",
    "                  })\n",
    "\n",
    "df.describe()"
   ]
  },
  {
   "cell_type": "code",
   "execution_count": 71,
   "metadata": {},
   "outputs": [
    {
     "data": {
      "text/html": [
       "<div>\n",
       "<style scoped>\n",
       "    .dataframe tbody tr th:only-of-type {\n",
       "        vertical-align: middle;\n",
       "    }\n",
       "\n",
       "    .dataframe tbody tr th {\n",
       "        vertical-align: top;\n",
       "    }\n",
       "\n",
       "    .dataframe thead th {\n",
       "        text-align: right;\n",
       "    }\n",
       "</style>\n",
       "<table border=\"1\" class=\"dataframe\">\n",
       "  <thead>\n",
       "    <tr style=\"text-align: right;\">\n",
       "      <th></th>\n",
       "      <th>total_lens_predicted</th>\n",
       "      <th>total_lens_gt</th>\n",
       "      <th>sent_len</th>\n",
       "    </tr>\n",
       "  </thead>\n",
       "  <tbody>\n",
       "    <tr>\n",
       "      <th>count</th>\n",
       "      <td>288.000000</td>\n",
       "      <td>288.000000</td>\n",
       "      <td>288.000000</td>\n",
       "    </tr>\n",
       "    <tr>\n",
       "      <th>mean</th>\n",
       "      <td>11.649306</td>\n",
       "      <td>12.652778</td>\n",
       "      <td>28.944444</td>\n",
       "    </tr>\n",
       "    <tr>\n",
       "      <th>std</th>\n",
       "      <td>7.529635</td>\n",
       "      <td>9.134549</td>\n",
       "      <td>15.457834</td>\n",
       "    </tr>\n",
       "    <tr>\n",
       "      <th>min</th>\n",
       "      <td>1.000000</td>\n",
       "      <td>3.000000</td>\n",
       "      <td>2.000000</td>\n",
       "    </tr>\n",
       "    <tr>\n",
       "      <th>25%</th>\n",
       "      <td>7.000000</td>\n",
       "      <td>7.000000</td>\n",
       "      <td>20.000000</td>\n",
       "    </tr>\n",
       "    <tr>\n",
       "      <th>50%</th>\n",
       "      <td>10.000000</td>\n",
       "      <td>11.000000</td>\n",
       "      <td>27.000000</td>\n",
       "    </tr>\n",
       "    <tr>\n",
       "      <th>75%</th>\n",
       "      <td>15.000000</td>\n",
       "      <td>15.000000</td>\n",
       "      <td>37.000000</td>\n",
       "    </tr>\n",
       "    <tr>\n",
       "      <th>max</th>\n",
       "      <td>51.000000</td>\n",
       "      <td>77.000000</td>\n",
       "      <td>118.000000</td>\n",
       "    </tr>\n",
       "  </tbody>\n",
       "</table>\n",
       "</div>"
      ],
      "text/plain": [
       "       total_lens_predicted  total_lens_gt    sent_len\n",
       "count            288.000000     288.000000  288.000000\n",
       "mean              11.649306      12.652778   28.944444\n",
       "std                7.529635       9.134549   15.457834\n",
       "min                1.000000       3.000000    2.000000\n",
       "25%                7.000000       7.000000   20.000000\n",
       "50%               10.000000      11.000000   27.000000\n",
       "75%               15.000000      15.000000   37.000000\n",
       "max               51.000000      77.000000  118.000000"
      ]
     },
     "execution_count": 71,
     "metadata": {},
     "output_type": "execute_result"
    }
   ],
   "source": [
    "total_lens_predicted = num_non_empty_entries(part2_pred, 'entities', 'relations')\n",
    "total_lens_gt = num_non_empty_entries(part2_pred, 'entity_gts', 'relation_gts')\n",
    "\n",
    "df = pd.DataFrame({'total_lens_predicted': total_lens_predicted, \n",
    "                   'total_lens_gt': total_lens_gt,\n",
    "                   'sent_len': [len(row['tokens']) for row in part0_pred]\n",
    "                  })\n",
    "\n",
    "df.describe()"
   ]
  },
  {
   "cell_type": "code",
   "execution_count": null,
   "metadata": {},
   "outputs": [],
   "source": []
  },
  {
   "cell_type": "markdown",
   "metadata": {},
   "source": [
    "## Hypothesis 2: model can predict the number of non-empty entries pretty well with less data"
   ]
  },
  {
   "cell_type": "code",
   "execution_count": null,
   "metadata": {},
   "outputs": [],
   "source": []
  }
 ],
 "metadata": {
  "kernelspec": {
   "display_name": "spert",
   "language": "python",
   "name": "spert"
  },
  "language_info": {
   "codemirror_mode": {
    "name": "ipython",
    "version": 3
   },
   "file_extension": ".py",
   "mimetype": "text/x-python",
   "name": "python",
   "nbconvert_exporter": "python",
   "pygments_lexer": "ipython3",
   "version": "3.8.10"
  }
 },
 "nbformat": 4,
 "nbformat_minor": 4
}
